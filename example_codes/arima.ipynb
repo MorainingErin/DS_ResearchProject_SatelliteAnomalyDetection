{
 "cells": [
  {
   "cell_type": "markdown",
   "id": "4ee5fe50392c6001",
   "metadata": {},
   "source": [
    "# Minimal example of forecasting using ARIMA\n",
    "\n",
    "Note that you are expected to do substantially more than what is here in yor project.\n",
    "This is just an example to get you started."
   ]
  },
  {
   "cell_type": "code",
   "execution_count": null,
   "id": "22b226834f7de11a",
   "metadata": {},
   "outputs": [],
   "source": [
    "import os\n",
    "import numpy as np\n",
    "import pandas as pd\n",
    "import seaborn as sns\n",
    "import matplotlib.pyplot as plt\n",
    "import statsmodels.api as sm\n",
    "import statsmodels.formula.api as smf\n",
    "from statsmodels.tsa.stattools import adfuller\n",
    "\n",
    "import warnings\n",
    "warnings.filterwarnings(\"ignore\")"
   ]
  },
  {
   "cell_type": "code",
   "execution_count": null,
   "id": "3ec599278f8df2f4",
   "metadata": {
    "ExecuteTime": {
     "end_time": "2024-07-01T07:05:15.052706Z",
     "start_time": "2024-07-01T07:05:15.049697Z"
    }
   },
   "outputs": [],
   "source": [
    "DATA_DIR = \"~/Dropbox/Dropbox_project_data/MDS_examples\""
   ]
  },
  {
   "cell_type": "markdown",
   "id": "12b45a0c4e22cbf3",
   "metadata": {},
   "source": [
    "Load the data"
   ]
  },
  {
   "cell_type": "code",
   "execution_count": null,
   "id": "a1ceb528d404164",
   "metadata": {
    "ExecuteTime": {
     "end_time": "2024-07-01T07:08:14.726442Z",
     "start_time": "2024-07-01T07:08:14.709854Z"
    }
   },
   "outputs": [],
   "source": [
    "df_tles = pd.read_csv(\n",
    "    os.path.join(DATA_DIR, \"Sentinel-3A.csv\"),\n",
    "    index_col=0, \n",
    "    parse_dates=True\n",
    ")"
   ]
  },
  {
   "cell_type": "code",
   "execution_count": null,
   "id": "de464c9385757436",
   "metadata": {
    "ExecuteTime": {
     "end_time": "2024-07-01T07:08:15.564735Z",
     "start_time": "2024-07-01T07:08:15.555525Z"
    }
   },
   "outputs": [],
   "source": [
    "df_tles"
   ]
  },
  {
   "cell_type": "markdown",
   "id": "fe0fe13809bb68d1",
   "metadata": {},
   "source": [
    "Check that the index has been loaded as a datetime object"
   ]
  },
  {
   "cell_type": "code",
   "execution_count": null,
   "id": "6f184e61e9ec09e4",
   "metadata": {
    "ExecuteTime": {
     "end_time": "2024-07-01T07:08:17.215245Z",
     "start_time": "2024-07-01T07:08:17.210834Z"
    }
   },
   "outputs": [],
   "source": [
    "df_tles.index.inferred_type"
   ]
  },
  {
   "cell_type": "markdown",
   "id": "f55747e86a321aef",
   "metadata": {},
   "source": [
    "Make our life easier by making a dataframe with only the Brouwer mean motion, then centering and rescaling the data. Note that the rescaling is only done to make the numbers easier to read on screen (it has no effect on the operation of ARIMA)."
   ]
  },
  {
   "cell_type": "code",
   "execution_count": null,
   "id": "543ce3e08896d37b",
   "metadata": {
    "ExecuteTime": {
     "end_time": "2024-07-01T07:10:09.221685Z",
     "start_time": "2024-07-01T07:10:09.211517Z"
    }
   },
   "outputs": [],
   "source": [
    "df_mm = df_tles[[\"Brouwer mean motion\"]]\n",
    "df_mm = (df_mm - df_mm.mean())*1e7"
   ]
  },
  {
   "cell_type": "code",
   "execution_count": null,
   "id": "961cf286cf66a8ca",
   "metadata": {
    "ExecuteTime": {
     "end_time": "2024-07-01T07:10:11.628344Z",
     "start_time": "2024-07-01T07:10:11.282414Z"
    }
   },
   "outputs": [],
   "source": [
    "#sns.lineplot(df_mm[\"2020-01-01\":\"2022-06-01\"])\n",
    "sns.lineplot(df_mm)"
   ]
  },
  {
   "cell_type": "code",
   "execution_count": null,
   "id": "830e0ec47ca2d1b",
   "metadata": {
    "ExecuteTime": {
     "end_time": "2024-07-01T07:10:41.710015Z",
     "start_time": "2024-07-01T07:10:41.701117Z"
    }
   },
   "outputs": [],
   "source": [
    "df_mm"
   ]
  },
  {
   "cell_type": "markdown",
   "id": "7716bfab",
   "metadata": {},
   "source": [
    "The next couple of cells resample the data, with linear interoplation, so that it becomes a regularly-sampled time series. This is split out into a few cells so that you can see what is happening."
   ]
  },
  {
   "cell_type": "code",
   "execution_count": null,
   "id": "f4323d2f",
   "metadata": {},
   "outputs": [],
   "source": [
    "df_mm.index = pd.to_datetime(df_mm.index)\n",
    "start_time = df_mm.index.min()\n",
    "end_time = df_mm.index.max()\n",
    "regular_index = pd.date_range(start=start_time, end=end_time, freq='1D')\n",
    "regular_index  "
   ]
  },
  {
   "cell_type": "code",
   "execution_count": null,
   "id": "7942b7fe",
   "metadata": {},
   "outputs": [],
   "source": [
    "df_mm_resampled = df_mm.reindex(df_mm.index.union(regular_index)).sort_index()\n",
    "df_mm_resampled"
   ]
  },
  {
   "cell_type": "code",
   "execution_count": null,
   "id": "9c463565",
   "metadata": {},
   "outputs": [],
   "source": [
    "df_mm_resampled = df_mm_resampled.interpolate(method='linear')\n",
    "df_mm_resampled"
   ]
  },
  {
   "cell_type": "code",
   "execution_count": null,
   "id": "a6250747",
   "metadata": {},
   "outputs": [],
   "source": [
    "df_mm_resampled = df_mm_resampled.loc[regular_index]\n",
    "df_mm_resampled"
   ]
  },
  {
   "cell_type": "markdown",
   "id": "2aa0f3a8",
   "metadata": {},
   "source": [
    "We then plot the resampled data against the original data as a sanity check"
   ]
  },
  {
   "cell_type": "code",
   "execution_count": null,
   "id": "74b6e2bf",
   "metadata": {},
   "outputs": [],
   "source": [
    "fig, ax = plt.subplots()\n",
    "df_mm_resampled.loc[\"2019-01\"][\"Brouwer mean motion\"].plot(ax=ax, label=\"Interpolated\")\n",
    "df_mm.loc[\"2019-01\"][\"Brouwer mean motion\"].plot(ax=ax, label=\"Original\")\n",
    "ax.legend()"
   ]
  },
  {
   "cell_type": "markdown",
   "id": "11e22373",
   "metadata": {},
   "source": [
    "We then have a look at the ACF and PACF to aid in model selection"
   ]
  },
  {
   "cell_type": "code",
   "execution_count": null,
   "id": "d808b265",
   "metadata": {},
   "outputs": [],
   "source": [
    "# plot an ACF\n",
    "sm.graphics.tsa.plot_acf(df_mm_resampled[\"Brouwer mean motion\"], lags=100)\n",
    "plt.show()"
   ]
  },
  {
   "cell_type": "code",
   "execution_count": null,
   "id": "5cb00cb0",
   "metadata": {},
   "outputs": [],
   "source": [
    "# plot an ACF\n",
    "sm.graphics.tsa.plot_pacf(df_mm_resampled[\"Brouwer mean motion\"], lags=30)\n",
    "plt.show()"
   ]
  },
  {
   "cell_type": "markdown",
   "id": "a7ff360c",
   "metadata": {},
   "source": [
    "Do a test for stationarity"
   ]
  },
  {
   "cell_type": "code",
   "execution_count": null,
   "id": "bd6f228a",
   "metadata": {},
   "outputs": [],
   "source": [
    "adfuller(df_mm_resampled[\"Brouwer mean motion\"])"
   ]
  },
  {
   "cell_type": "markdown",
   "id": "50f21052",
   "metadata": {},
   "source": [
    "We can fit a single AR model"
   ]
  },
  {
   "cell_type": "code",
   "execution_count": null,
   "id": "e7adebb9",
   "metadata": {},
   "outputs": [],
   "source": [
    "model = sm.tsa.ARIMA(df_mm_resampled, order=(2, 0, 0))\n",
    "results = model.fit()\n",
    "results.summary()"
   ]
  },
  {
   "cell_type": "markdown",
   "id": "e5a9eebf",
   "metadata": {},
   "source": [
    "Now do a grid search for a better model"
   ]
  },
  {
   "cell_type": "code",
   "execution_count": null,
   "id": "47238373",
   "metadata": {},
   "outputs": [],
   "source": [
    "AR_MAX_ORDER = 5\n",
    "MA_MAX_ORDER = 5\n",
    "MAX_DIFF = 0\n",
    "\n",
    "best_aic = float(\"inf\")\n",
    "best_params = None\n",
    "best_model = None\n",
    "for p in range(AR_MAX_ORDER + 1):\n",
    "    for d in range(MAX_DIFF + 1):\n",
    "        for q in range(MA_MAX_ORDER + 1):            \n",
    "            try:\n",
    "                model = sm.tsa.ARIMA(df_mm_resampled, order=(p, d, q))\n",
    "                results = model.fit()\n",
    "                print(f\"ARIMA({p}, {d}, {q}) AIC: {results.aic}\")\n",
    "                if results.aic < best_aic:\n",
    "                    best_aic = results.aic\n",
    "                    best_params = (p, d, q)\n",
    "                    best_model = results\n",
    "            except:\n",
    "                continue\n",
    "print(f\"Best ARIMA model: {best_params} with AIC: {best_aic}\")"
   ]
  },
  {
   "cell_type": "code",
   "execution_count": null,
   "id": "2ae74241",
   "metadata": {},
   "outputs": [],
   "source": [
    "residuals = best_model.resid\n",
    "fig, ax = plt.subplots()\n",
    "residuals.plot(ax=ax)"
   ]
  },
  {
   "cell_type": "code",
   "execution_count": null,
   "id": "e3030524",
   "metadata": {},
   "outputs": [],
   "source": [
    "# plot the ACF of the residuals\n",
    "sm.graphics.tsa.plot_acf(residuals, lags=30)\n",
    "plt.show()"
   ]
  },
  {
   "cell_type": "code",
   "execution_count": null,
   "id": "9c3d3ce2",
   "metadata": {},
   "outputs": [],
   "source": [
    "# plot the PACF of the residuals\n",
    "sm.graphics.tsa.plot_pacf(residuals, lags=30)\n",
    "plt.show()"
   ]
  },
  {
   "cell_type": "markdown",
   "id": "f4ae70a6",
   "metadata": {},
   "source": []
  },
  {
   "cell_type": "code",
   "execution_count": null,
   "id": "afe04070",
   "metadata": {},
   "outputs": [],
   "source": [
    "# plot a q-q plot of the residuals\n",
    "sm.qqplot(residuals, line='s')\n",
    "plt.show()"
   ]
  },
  {
   "cell_type": "code",
   "execution_count": null,
   "id": "e365681b",
   "metadata": {},
   "outputs": [],
   "source": []
  }
 ],
 "metadata": {
  "kernelspec": {
   "display_name": "MDS",
   "language": "python",
   "name": "python3"
  },
  "language_info": {
   "codemirror_mode": {
    "name": "ipython",
    "version": 3
   },
   "file_extension": ".py",
   "mimetype": "text/x-python",
   "name": "python",
   "nbconvert_exporter": "python",
   "pygments_lexer": "ipython3",
   "version": "3.9.21"
  }
 },
 "nbformat": 4,
 "nbformat_minor": 5
}
